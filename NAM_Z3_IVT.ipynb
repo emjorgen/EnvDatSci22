{
  "nbformat": 4,
  "nbformat_minor": 0,
  "metadata": {
    "colab": {
      "provenance": [],
      "authorship_tag": "ABX9TyOPz5J5NJUqFTvkP8bNFZ8z",
      "include_colab_link": true
    },
    "kernelspec": {
      "name": "python3",
      "display_name": "Python 3"
    },
    "language_info": {
      "name": "python"
    },
    "gpuClass": "standard"
  },
  "cells": [
    {
      "cell_type": "markdown",
      "metadata": {
        "id": "view-in-github",
        "colab_type": "text"
      },
      "source": [
        "<a href=\"https://colab.research.google.com/github/emjorgen/EnvDatSci22/blob/master/NAM_Z3_IVT.ipynb\" target=\"_parent\"><img src=\"https://colab.research.google.com/assets/colab-badge.svg\" alt=\"Open In Colab\"/></a>"
      ]
    },
    {
      "cell_type": "code",
      "execution_count": null,
      "metadata": {
        "colab": {
          "base_uri": "https://localhost:8080/"
        },
        "id": "vSAYaEKc0no6",
        "outputId": "e463b6a7-5f3a-45ad-a43b-dcf2616be70a"
      },
      "outputs": [
        {
          "output_type": "stream",
          "name": "stdout",
          "text": [
            "Drive already mounted at /content/drive; to attempt to forcibly remount, call drive.mount(\"/content/drive\", force_remount=True).\n"
          ]
        }
      ],
      "source": [
        "#attach to Google Drive\n",
        "from google.colab import drive\n",
        "drive.mount('/content/drive')"
      ]
    },
    {
      "cell_type": "code",
      "source": [
        "cd ./drive/MyDrive/EnvDataSci/For_Ellen/Ran_Feng_isotope_sensitivity/new_runs/scaled"
      ],
      "metadata": {
        "colab": {
          "base_uri": "https://localhost:8080/"
        },
        "id": "UdRunSPH03Yg",
        "outputId": "11da7b14-8aa4-462f-e342-f6771e48de6d"
      },
      "execution_count": null,
      "outputs": [
        {
          "output_type": "stream",
          "name": "stdout",
          "text": [
            "/content/drive/.shortcut-targets-by-id/1-n_IOvxe34aCTrxrJlY5ZJYz-K0wNK0_/For_Ellen/Ran_Feng_isotope_sensitivity/new_runs/scaled\n"
          ]
        }
      ]
    },
    {
      "cell_type": "code",
      "source": [
        "!pip install pysal\n",
        "!pip install libpysal\n",
        "!pip install geopandas\n",
        "!pip install netCDF4\n",
        "!pip install -U scikit-learn"
      ],
      "metadata": {
        "colab": {
          "base_uri": "https://localhost:8080/"
        },
        "id": "_G3PhAka5Ajw",
        "outputId": "93340ba3-d8a6-4db7-ad4c-3bf4ad8b1110"
      },
      "execution_count": null,
      "outputs": [
        {
          "output_type": "stream",
          "name": "stdout",
          "text": [
            "Looking in indexes: https://pypi.org/simple, https://us-python.pkg.dev/colab-wheels/public/simple/\n",
            "Collecting pysal\n",
            "  Downloading pysal-2.7.0-py3-none-any.whl (17 kB)\n",
            "Collecting spopt>=0.4.1\n",
            "  Downloading spopt-0.4.1-py3-none-any.whl (84 kB)\n",
            "\u001b[K     |████████████████████████████████| 84 kB 2.5 MB/s \n",
            "\u001b[?25hCollecting inequality>=1.0.0\n",
            "  Downloading inequality-1.0.0.tar.gz (11 kB)\n",
            "Collecting esda>=2.4.1\n",
            "  Downloading esda-2.4.3.tar.gz (116 kB)\n",
            "\u001b[K     |████████████████████████████████| 116 kB 34.4 MB/s \n",
            "\u001b[?25hCollecting libpysal>=4.6.2\n",
            "  Downloading libpysal-4.7.0-py3-none-any.whl (2.4 MB)\n",
            "\u001b[K     |████████████████████████████████| 2.4 MB 58.7 MB/s \n",
            "\u001b[?25hCollecting spvcm>=0.3.0\n",
            "  Downloading spvcm-0.3.0.tar.gz (5.7 MB)\n",
            "\u001b[K     |████████████████████████████████| 5.7 MB 56.2 MB/s \n",
            "\u001b[?25hCollecting mapclassify>=2.4.3\n",
            "  Downloading mapclassify-2.4.3-py3-none-any.whl (38 kB)\n",
            "Collecting momepy>=0.5.3\n",
            "  Downloading momepy-0.5.4-py3-none-any.whl (243 kB)\n",
            "\u001b[K     |████████████████████████████████| 243 kB 54.8 MB/s \n",
            "\u001b[?25hCollecting giddy>=2.3.3\n",
            "  Downloading giddy-2.3.3-py3-none-any.whl (60 kB)\n",
            "\u001b[K     |████████████████████████████████| 60 kB 8.0 MB/s \n",
            "\u001b[?25hCollecting segregation>=2.3.1\n",
            "  Downloading segregation-2.3.1-py3-none-any.whl (147 kB)\n",
            "\u001b[K     |████████████████████████████████| 147 kB 50.1 MB/s \n",
            "\u001b[?25hCollecting spint>=1.0.7\n",
            "  Downloading spint-1.0.7.tar.gz (28 kB)\n",
            "Collecting splot>=1.1.5.post1\n",
            "  Downloading splot-1.1.5.post1-py3-none-any.whl (39 kB)\n",
            "Collecting mgwr>=2.1.2\n",
            "  Downloading mgwr-2.1.2.tar.gz (41 kB)\n",
            "\u001b[K     |████████████████████████████████| 41 kB 641 kB/s \n",
            "\u001b[?25hCollecting pointpats>=2.2.0\n",
            "  Downloading pointpats-2.2.0.tar.gz (55 kB)\n",
            "\u001b[K     |████████████████████████████████| 55 kB 3.3 MB/s \n",
            "\u001b[?25hCollecting spreg>=1.2.4\n",
            "  Downloading spreg-1.3.0-py3-none-any.whl (220 kB)\n",
            "\u001b[K     |████████████████████████████████| 220 kB 55.0 MB/s \n",
            "\u001b[?25hCollecting access>=1.1.8\n",
            "  Downloading access-1.1.8-py3-none-any.whl (21 kB)\n",
            "Collecting spaghetti>=1.6.6\n",
            "  Downloading spaghetti-1.6.10-py3-none-any.whl (46 kB)\n",
            "\u001b[K     |████████████████████████████████| 46 kB 3.3 MB/s \n",
            "\u001b[?25hCollecting spglm>=1.0.8\n",
            "  Downloading spglm-1.0.8.tar.gz (37 kB)\n",
            "Collecting tobler>=0.8.2\n",
            "  Downloading tobler-0.9.0-py3-none-any.whl (22 kB)\n",
            "Collecting geopandas\n",
            "  Downloading geopandas-0.12.2-py3-none-any.whl (1.1 MB)\n",
            "\u001b[K     |████████████████████████████████| 1.1 MB 47.6 MB/s \n",
            "\u001b[?25hRequirement already satisfied: requests>=2 in /usr/local/lib/python3.8/dist-packages (from access>=1.1.8->pysal) (2.23.0)\n",
            "Requirement already satisfied: numpy>=1.3 in /usr/local/lib/python3.8/dist-packages (from access>=1.1.8->pysal) (1.21.6)\n",
            "Requirement already satisfied: pandas>=0.23.4 in /usr/local/lib/python3.8/dist-packages (from access>=1.1.8->pysal) (1.3.5)\n",
            "Requirement already satisfied: scipy>=0.11 in /usr/local/lib/python3.8/dist-packages (from esda>=2.4.1->pysal) (1.7.3)\n",
            "Requirement already satisfied: scikit-learn in /usr/local/lib/python3.8/dist-packages (from esda>=2.4.1->pysal) (1.0.2)\n",
            "Collecting quantecon>=0.4.7\n",
            "  Downloading quantecon-0.5.3-py3-none-any.whl (179 kB)\n",
            "\u001b[K     |████████████████████████████████| 179 kB 55.8 MB/s \n",
            "\u001b[?25hRequirement already satisfied: jinja2 in /usr/local/lib/python3.8/dist-packages (from libpysal>=4.6.2->pysal) (2.11.3)\n",
            "Requirement already satisfied: platformdirs in /usr/local/lib/python3.8/dist-packages (from libpysal>=4.6.2->pysal) (2.5.4)\n",
            "Requirement already satisfied: beautifulsoup4 in /usr/local/lib/python3.8/dist-packages (from libpysal>=4.6.2->pysal) (4.6.3)\n",
            "Requirement already satisfied: packaging in /usr/local/lib/python3.8/dist-packages (from libpysal>=4.6.2->pysal) (21.3)\n",
            "Requirement already satisfied: networkx in /usr/local/lib/python3.8/dist-packages (from mapclassify>=2.4.3->pysal) (2.8.8)\n",
            "Collecting pygeos\n",
            "  Downloading pygeos-0.14-cp38-cp38-manylinux_2_17_x86_64.manylinux2014_x86_64.whl (2.2 MB)\n",
            "\u001b[K     |████████████████████████████████| 2.2 MB 62.1 MB/s \n",
            "\u001b[?25hRequirement already satisfied: tqdm>=4.27.0 in /usr/local/lib/python3.8/dist-packages (from momepy>=0.5.3->pysal) (4.64.1)\n",
            "Requirement already satisfied: shapely>=1.7 in /usr/local/lib/python3.8/dist-packages (from geopandas->access>=1.1.8->pysal) (1.8.5.post1)\n",
            "Collecting fiona>=1.8\n",
            "  Downloading Fiona-1.8.22-cp38-cp38-manylinux_2_17_x86_64.manylinux2014_x86_64.whl (16.6 MB)\n",
            "\u001b[K     |████████████████████████████████| 16.6 MB 219 kB/s \n",
            "\u001b[?25hCollecting pyproj>=2.6.1.post1\n",
            "  Downloading pyproj-3.4.1-cp38-cp38-manylinux_2_17_x86_64.manylinux2014_x86_64.whl (7.8 MB)\n",
            "\u001b[K     |████████████████████████████████| 7.8 MB 48.1 MB/s \n",
            "\u001b[?25hRequirement already satisfied: six>=1.7 in /usr/local/lib/python3.8/dist-packages (from fiona>=1.8->geopandas->access>=1.1.8->pysal) (1.15.0)\n",
            "Requirement already satisfied: attrs>=17 in /usr/local/lib/python3.8/dist-packages (from fiona>=1.8->geopandas->access>=1.1.8->pysal) (22.1.0)\n",
            "Requirement already satisfied: click>=4.0 in /usr/local/lib/python3.8/dist-packages (from fiona>=1.8->geopandas->access>=1.1.8->pysal) (7.1.2)\n",
            "Collecting cligj>=0.5\n",
            "  Downloading cligj-0.7.2-py3-none-any.whl (7.1 kB)\n",
            "Requirement already satisfied: certifi in /usr/local/lib/python3.8/dist-packages (from fiona>=1.8->geopandas->access>=1.1.8->pysal) (2022.9.24)\n",
            "Requirement already satisfied: setuptools in /usr/local/lib/python3.8/dist-packages (from fiona>=1.8->geopandas->access>=1.1.8->pysal) (57.4.0)\n",
            "Collecting munch\n",
            "  Downloading munch-2.5.0-py2.py3-none-any.whl (10 kB)\n",
            "Collecting click-plugins>=1.0\n",
            "  Downloading click_plugins-1.1.1-py2.py3-none-any.whl (7.5 kB)\n",
            "Requirement already satisfied: python-dateutil>=2.7.3 in /usr/local/lib/python3.8/dist-packages (from pandas>=0.23.4->access>=1.1.8->pysal) (2.8.2)\n",
            "Requirement already satisfied: pytz>=2017.3 in /usr/local/lib/python3.8/dist-packages (from pandas>=0.23.4->access>=1.1.8->pysal) (2022.6)\n",
            "Requirement already satisfied: matplotlib in /usr/local/lib/python3.8/dist-packages (from pointpats>=2.2.0->pysal) (3.2.2)\n",
            "Requirement already satisfied: opencv-contrib-python>=4.2.0 in /usr/local/lib/python3.8/dist-packages (from pointpats>=2.2.0->pysal) (4.6.0.66)\n",
            "Requirement already satisfied: numba in /usr/local/lib/python3.8/dist-packages (from quantecon>=0.4.7->giddy>=2.3.3->pysal) (0.56.4)\n",
            "Requirement already satisfied: sympy in /usr/local/lib/python3.8/dist-packages (from quantecon>=0.4.7->giddy>=2.3.3->pysal) (1.7.1)\n",
            "Requirement already satisfied: chardet<4,>=3.0.2 in /usr/local/lib/python3.8/dist-packages (from requests>=2->access>=1.1.8->pysal) (3.0.4)\n",
            "Requirement already satisfied: urllib3!=1.25.0,!=1.25.1,<1.26,>=1.21.1 in /usr/local/lib/python3.8/dist-packages (from requests>=2->access>=1.1.8->pysal) (1.24.3)\n",
            "Requirement already satisfied: idna<3,>=2.5 in /usr/local/lib/python3.8/dist-packages (from requests>=2->access>=1.1.8->pysal) (2.10)\n",
            "Requirement already satisfied: seaborn in /usr/local/lib/python3.8/dist-packages (from segregation>=2.3.1->pysal) (0.11.2)\n",
            "Collecting deprecation\n",
            "  Downloading deprecation-2.1.0-py2.py3-none-any.whl (11 kB)\n",
            "Collecting quilt3\n",
            "  Downloading quilt3-5.1.0-py3-none-any.whl (79 kB)\n",
            "\u001b[K     |████████████████████████████████| 79 kB 8.1 MB/s \n",
            "\u001b[?25hRequirement already satisfied: pip in /usr/local/lib/python3.8/dist-packages (from segregation>=2.3.1->pysal) (21.1.3)\n",
            "Collecting rvlib>=0.0.5\n",
            "  Downloading rvlib-0.0.6.tar.gz (183 kB)\n",
            "\u001b[K     |████████████████████████████████| 183 kB 74.2 MB/s \n",
            "\u001b[?25hRequirement already satisfied: joblib in /usr/local/lib/python3.8/dist-packages (from segregation>=2.3.1->pysal) (1.2.0)\n",
            "Requirement already satisfied: cffi>=1.0.0 in /usr/local/lib/python3.8/dist-packages (from rvlib>=0.0.5->segregation>=2.3.1->pysal) (1.15.1)\n",
            "Requirement already satisfied: PyYAML in /usr/local/lib/python3.8/dist-packages (from rvlib>=0.0.5->segregation>=2.3.1->pysal) (6.0)\n",
            "Requirement already satisfied: pycparser in /usr/local/lib/python3.8/dist-packages (from cffi>=1.0.0->rvlib>=0.0.5->segregation>=2.3.1->pysal) (2.21)\n",
            "Requirement already satisfied: llvmlite<0.40,>=0.39.0dev0 in /usr/local/lib/python3.8/dist-packages (from numba->quantecon>=0.4.7->giddy>=2.3.3->pysal) (0.39.1)\n",
            "Requirement already satisfied: importlib-metadata in /usr/local/lib/python3.8/dist-packages (from numba->quantecon>=0.4.7->giddy>=2.3.3->pysal) (4.13.0)\n",
            "Requirement already satisfied: threadpoolctl>=2.0.0 in /usr/local/lib/python3.8/dist-packages (from scikit-learn->esda>=2.4.1->pysal) (3.1.0)\n",
            "Collecting rtree\n",
            "  Downloading Rtree-1.0.1-cp38-cp38-manylinux_2_17_x86_64.manylinux2014_x86_64.whl (1.0 MB)\n",
            "\u001b[K     |████████████████████████████████| 1.0 MB 54.6 MB/s \n",
            "\u001b[?25hCollecting pulp\n",
            "  Downloading PuLP-2.7.0-py3-none-any.whl (14.3 MB)\n",
            "\u001b[K     |████████████████████████████████| 14.3 MB 77.8 MB/s \n",
            "\u001b[?25hCollecting rasterio\n",
            "  Downloading rasterio-1.3.4-cp38-cp38-manylinux_2_17_x86_64.manylinux2014_x86_64.whl (20.9 MB)\n",
            "\u001b[K     |████████████████████████████████| 20.9 MB 1.3 MB/s \n",
            "\u001b[?25hCollecting rasterstats\n",
            "  Downloading rasterstats-0.17.0-py3-none-any.whl (16 kB)\n",
            "Requirement already satisfied: statsmodels in /usr/local/lib/python3.8/dist-packages (from tobler>=0.8.2->pysal) (0.12.2)\n",
            "Requirement already satisfied: zipp>=0.5 in /usr/local/lib/python3.8/dist-packages (from importlib-metadata->numba->quantecon>=0.4.7->giddy>=2.3.3->pysal) (3.11.0)\n",
            "Requirement already satisfied: MarkupSafe>=0.23 in /usr/local/lib/python3.8/dist-packages (from jinja2->libpysal>=4.6.2->pysal) (2.0.1)\n",
            "Requirement already satisfied: cycler>=0.10 in /usr/local/lib/python3.8/dist-packages (from matplotlib->pointpats>=2.2.0->pysal) (0.11.0)\n",
            "Requirement already satisfied: kiwisolver>=1.0.1 in /usr/local/lib/python3.8/dist-packages (from matplotlib->pointpats>=2.2.0->pysal) (1.4.4)\n",
            "Requirement already satisfied: pyparsing!=2.0.4,!=2.1.2,!=2.1.6,>=2.0.1 in /usr/local/lib/python3.8/dist-packages (from matplotlib->pointpats>=2.2.0->pysal) (3.0.9)\n",
            "Collecting requests-futures==1.0.0\n",
            "  Downloading requests_futures-1.0.0-py2.py3-none-any.whl (7.4 kB)\n",
            "Collecting jsonlines==1.2.0\n",
            "  Downloading jsonlines-1.2.0-py2.py3-none-any.whl (7.6 kB)\n",
            "Requirement already satisfied: tenacity>=5.1.1 in /usr/local/lib/python3.8/dist-packages (from quilt3->segregation>=2.3.1->pysal) (8.1.0)\n",
            "Collecting aws-requests-auth>=0.4.2\n",
            "  Downloading aws_requests_auth-0.4.3-py2.py3-none-any.whl (6.8 kB)\n",
            "Requirement already satisfied: jsonschema<5,>=3 in /usr/local/lib/python3.8/dist-packages (from quilt3->segregation>=2.3.1->pysal) (4.3.3)\n",
            "Collecting boto3>=1.10.0\n",
            "  Downloading boto3-1.26.29-py3-none-any.whl (132 kB)\n",
            "\u001b[K     |████████████████████████████████| 132 kB 61.1 MB/s \n",
            "\u001b[?25hCollecting s3transfer<0.7.0,>=0.6.0\n",
            "  Downloading s3transfer-0.6.0-py3-none-any.whl (79 kB)\n",
            "\u001b[K     |████████████████████████████████| 79 kB 8.5 MB/s \n",
            "\u001b[?25hCollecting botocore<1.30.0,>=1.29.29\n",
            "  Downloading botocore-1.29.29-py3-none-any.whl (10.3 MB)\n",
            "\u001b[K     |████████████████████████████████| 10.3 MB 53.5 MB/s \n",
            "\u001b[?25hCollecting jmespath<2.0.0,>=0.7.1\n",
            "  Downloading jmespath-1.0.1-py3-none-any.whl (20 kB)\n",
            "Collecting urllib3!=1.25.0,!=1.25.1,<1.26,>=1.21.1\n",
            "  Downloading urllib3-1.25.11-py2.py3-none-any.whl (127 kB)\n",
            "\u001b[K     |████████████████████████████████| 127 kB 62.0 MB/s \n",
            "\u001b[?25hRequirement already satisfied: importlib-resources>=1.4.0 in /usr/local/lib/python3.8/dist-packages (from jsonschema<5,>=3->quilt3->segregation>=2.3.1->pysal) (5.10.0)\n",
            "Requirement already satisfied: pyrsistent!=0.17.0,!=0.17.1,!=0.17.2,>=0.14.0 in /usr/local/lib/python3.8/dist-packages (from jsonschema<5,>=3->quilt3->segregation>=2.3.1->pysal) (0.19.2)\n",
            "Collecting affine\n",
            "  Downloading affine-2.3.1-py2.py3-none-any.whl (16 kB)\n",
            "Collecting snuggs>=1.4.1\n",
            "  Downloading snuggs-1.4.7-py3-none-any.whl (5.4 kB)\n",
            "Collecting simplejson\n",
            "  Downloading simplejson-3.18.0-cp38-cp38-manylinux_2_5_x86_64.manylinux1_x86_64.manylinux_2_12_x86_64.manylinux2010_x86_64.whl (139 kB)\n",
            "\u001b[K     |████████████████████████████████| 139 kB 64.5 MB/s \n",
            "\u001b[?25hRequirement already satisfied: patsy>=0.5 in /usr/local/lib/python3.8/dist-packages (from statsmodels->tobler>=0.8.2->pysal) (0.5.3)\n",
            "Requirement already satisfied: mpmath>=0.19 in /usr/local/lib/python3.8/dist-packages (from sympy->quantecon>=0.4.7->giddy>=2.3.3->pysal) (1.2.1)\n",
            "Building wheels for collected packages: esda, inequality, mgwr, pointpats, rvlib, spglm, spint, spvcm\n",
            "  Building wheel for esda (setup.py) ... \u001b[?25l\u001b[?25hdone\n",
            "  Created wheel for esda: filename=esda-2.4.3-py3-none-any.whl size=122782 sha256=de91341b090abac5afb65cad9f9d0e6409fa6e8f071adef3978416cca6d5dda6\n",
            "  Stored in directory: /root/.cache/pip/wheels/34/66/58/a7eb3f6c545f2c8aa4f36af16d3880c8cd736de983d387bba1\n",
            "  Building wheel for inequality (setup.py) ... \u001b[?25l\u001b[?25hdone\n",
            "  Created wheel for inequality: filename=inequality-1.0.0-py3-none-any.whl size=11799 sha256=9a9889dc0c804bac7e8603154b747be69141ed9c48d56a210af557c4395cac79\n",
            "  Stored in directory: /root/.cache/pip/wheels/32/5b/47/f5255524be1899a80f2c0f492a4df4dea4e84f82371e69dce8\n",
            "  Building wheel for mgwr (setup.py) ... \u001b[?25l\u001b[?25hdone\n",
            "  Created wheel for mgwr: filename=mgwr-2.1.2-py3-none-any.whl size=46384 sha256=6c881a3f5a9ba4fbb4d9281870d3b740cafa5ca56e43dc31b46f35ee9aa91201\n",
            "  Stored in directory: /root/.cache/pip/wheels/4f/26/fd/e19240ca6fc7c57f7e3a95410047f61587d261c5c52abfcf70\n",
            "  Building wheel for pointpats (setup.py) ... \u001b[?25l\u001b[?25hdone\n",
            "  Created wheel for pointpats: filename=pointpats-2.2.0-py3-none-any.whl size=60834 sha256=f3433107ad5128fe0e55ac0b83ae6960e92a749464becd9f2cf24ad8ac4e3ac5\n",
            "  Stored in directory: /root/.cache/pip/wheels/db/ff/de/9eec2c837a730d38825cfd6acc3d5b1bfe5975f7ce809a5bea\n",
            "  Building wheel for rvlib (setup.py) ... \u001b[?25l\u001b[?25hdone\n",
            "  Created wheel for rvlib: filename=rvlib-0.0.6-cp38-cp38-linux_x86_64.whl size=353252 sha256=b9d3fbf4c66a600a2927ca6b534a27bef7fe757bee1f643676b20f1c272cf576\n",
            "  Stored in directory: /root/.cache/pip/wheels/a8/4e/89/97ca16240471073b10c037f640e879c30a6bfdeb80a07c0daa\n",
            "  Building wheel for spglm (setup.py) ... \u001b[?25l\u001b[?25hdone\n",
            "  Created wheel for spglm: filename=spglm-1.0.8-py3-none-any.whl size=38806 sha256=7aa4fe99b47893a1a20ec09cb943b14d64118329104f4bac87a467b1d9a05c96\n",
            "  Stored in directory: /root/.cache/pip/wheels/04/56/0d/aaa8d7c0dedde9ad7cdb5882229ed287aacd78b1e648b5b7a1\n",
            "  Building wheel for spint (setup.py) ... \u001b[?25l\u001b[?25hdone\n",
            "  Created wheel for spint: filename=spint-1.0.7-py3-none-any.whl size=31383 sha256=544361a2d35376f4872f2b2dbb19e24de69440543bccad6691f3acf653d586c2\n",
            "  Stored in directory: /root/.cache/pip/wheels/7b/03/6b/b0a4a4e878a7e057ba4948478d7a8a7e651ac9d28a3f3a55d1\n",
            "  Building wheel for spvcm (setup.py) ... \u001b[?25l\u001b[?25hdone\n",
            "  Created wheel for spvcm: filename=spvcm-0.3.0-py3-none-any.whl size=5777201 sha256=8922397e152a956a41b676ebccc50cccc360a644ad746afccb47b655ee31e763\n",
            "  Stored in directory: /root/.cache/pip/wheels/da/dd/c6/66fefe936667388f6da5b01437a00cd6b31dee97a771edf7e5\n",
            "Successfully built esda inequality mgwr pointpats rvlib spglm spint spvcm\n",
            "Installing collected packages: urllib3, jmespath, botocore, snuggs, s3transfer, munch, libpysal, cligj, click-plugins, affine, spreg, simplejson, rtree, requests-futures, rasterio, quantecon, pyproj, mapclassify, jsonlines, fiona, esda, boto3, aws-requests-auth, spglm, spaghetti, rvlib, rasterstats, quilt3, pygeos, pulp, giddy, geopandas, deprecation, tobler, spvcm, spopt, splot, spint, segregation, pointpats, momepy, mgwr, inequality, access, pysal\n",
            "  Attempting uninstall: urllib3\n",
            "    Found existing installation: urllib3 1.24.3\n",
            "    Uninstalling urllib3-1.24.3:\n",
            "      Successfully uninstalled urllib3-1.24.3\n",
            "Successfully installed access-1.1.8 affine-2.3.1 aws-requests-auth-0.4.3 boto3-1.26.29 botocore-1.29.29 click-plugins-1.1.1 cligj-0.7.2 deprecation-2.1.0 esda-2.4.3 fiona-1.8.22 geopandas-0.12.2 giddy-2.3.3 inequality-1.0.0 jmespath-1.0.1 jsonlines-1.2.0 libpysal-4.7.0 mapclassify-2.4.3 mgwr-2.1.2 momepy-0.5.4 munch-2.5.0 pointpats-2.2.0 pulp-2.7.0 pygeos-0.14 pyproj-3.4.1 pysal-2.7.0 quantecon-0.5.3 quilt3-5.1.0 rasterio-1.3.4 rasterstats-0.17.0 requests-futures-1.0.0 rtree-1.0.1 rvlib-0.0.6 s3transfer-0.6.0 segregation-2.3.1 simplejson-3.18.0 snuggs-1.4.7 spaghetti-1.6.10 spglm-1.0.8 spint-1.0.7 splot-1.1.5.post1 spopt-0.4.1 spreg-1.3.0 spvcm-0.3.0 tobler-0.9.0 urllib3-1.25.11\n",
            "Looking in indexes: https://pypi.org/simple, https://us-python.pkg.dev/colab-wheels/public/simple/\n",
            "Requirement already satisfied: libpysal in /usr/local/lib/python3.8/dist-packages (4.7.0)\n",
            "Requirement already satisfied: scipy>=0.11 in /usr/local/lib/python3.8/dist-packages (from libpysal) (1.7.3)\n",
            "Requirement already satisfied: numpy>=1.3 in /usr/local/lib/python3.8/dist-packages (from libpysal) (1.21.6)\n",
            "Requirement already satisfied: requests in /usr/local/lib/python3.8/dist-packages (from libpysal) (2.23.0)\n",
            "Requirement already satisfied: packaging in /usr/local/lib/python3.8/dist-packages (from libpysal) (21.3)\n",
            "Requirement already satisfied: jinja2 in /usr/local/lib/python3.8/dist-packages (from libpysal) (2.11.3)\n",
            "Requirement already satisfied: beautifulsoup4 in /usr/local/lib/python3.8/dist-packages (from libpysal) (4.6.3)\n",
            "Requirement already satisfied: pandas in /usr/local/lib/python3.8/dist-packages (from libpysal) (1.3.5)\n",
            "Requirement already satisfied: platformdirs in /usr/local/lib/python3.8/dist-packages (from libpysal) (2.5.4)\n",
            "Requirement already satisfied: MarkupSafe>=0.23 in /usr/local/lib/python3.8/dist-packages (from jinja2->libpysal) (2.0.1)\n",
            "Requirement already satisfied: pyparsing!=3.0.5,>=2.0.2 in /usr/local/lib/python3.8/dist-packages (from packaging->libpysal) (3.0.9)\n",
            "Requirement already satisfied: pytz>=2017.3 in /usr/local/lib/python3.8/dist-packages (from pandas->libpysal) (2022.6)\n",
            "Requirement already satisfied: python-dateutil>=2.7.3 in /usr/local/lib/python3.8/dist-packages (from pandas->libpysal) (2.8.2)\n",
            "Requirement already satisfied: six>=1.5 in /usr/local/lib/python3.8/dist-packages (from python-dateutil>=2.7.3->pandas->libpysal) (1.15.0)\n",
            "Requirement already satisfied: chardet<4,>=3.0.2 in /usr/local/lib/python3.8/dist-packages (from requests->libpysal) (3.0.4)\n",
            "Requirement already satisfied: certifi>=2017.4.17 in /usr/local/lib/python3.8/dist-packages (from requests->libpysal) (2022.9.24)\n",
            "Requirement already satisfied: idna<3,>=2.5 in /usr/local/lib/python3.8/dist-packages (from requests->libpysal) (2.10)\n",
            "Requirement already satisfied: urllib3!=1.25.0,!=1.25.1,<1.26,>=1.21.1 in /usr/local/lib/python3.8/dist-packages (from requests->libpysal) (1.25.11)\n",
            "Looking in indexes: https://pypi.org/simple, https://us-python.pkg.dev/colab-wheels/public/simple/\n",
            "Requirement already satisfied: geopandas in /usr/local/lib/python3.8/dist-packages (0.12.2)\n",
            "Requirement already satisfied: packaging in /usr/local/lib/python3.8/dist-packages (from geopandas) (21.3)\n",
            "Requirement already satisfied: shapely>=1.7 in /usr/local/lib/python3.8/dist-packages (from geopandas) (1.8.5.post1)\n",
            "Requirement already satisfied: pyproj>=2.6.1.post1 in /usr/local/lib/python3.8/dist-packages (from geopandas) (3.4.1)\n",
            "Requirement already satisfied: pandas>=1.0.0 in /usr/local/lib/python3.8/dist-packages (from geopandas) (1.3.5)\n",
            "Requirement already satisfied: fiona>=1.8 in /usr/local/lib/python3.8/dist-packages (from geopandas) (1.8.22)\n",
            "Requirement already satisfied: click>=4.0 in /usr/local/lib/python3.8/dist-packages (from fiona>=1.8->geopandas) (7.1.2)\n",
            "Requirement already satisfied: setuptools in /usr/local/lib/python3.8/dist-packages (from fiona>=1.8->geopandas) (57.4.0)\n",
            "Requirement already satisfied: munch in /usr/local/lib/python3.8/dist-packages (from fiona>=1.8->geopandas) (2.5.0)\n",
            "Requirement already satisfied: click-plugins>=1.0 in /usr/local/lib/python3.8/dist-packages (from fiona>=1.8->geopandas) (1.1.1)\n",
            "Requirement already satisfied: attrs>=17 in /usr/local/lib/python3.8/dist-packages (from fiona>=1.8->geopandas) (22.1.0)\n",
            "Requirement already satisfied: certifi in /usr/local/lib/python3.8/dist-packages (from fiona>=1.8->geopandas) (2022.9.24)\n",
            "Requirement already satisfied: cligj>=0.5 in /usr/local/lib/python3.8/dist-packages (from fiona>=1.8->geopandas) (0.7.2)\n",
            "Requirement already satisfied: six>=1.7 in /usr/local/lib/python3.8/dist-packages (from fiona>=1.8->geopandas) (1.15.0)\n",
            "Requirement already satisfied: python-dateutil>=2.7.3 in /usr/local/lib/python3.8/dist-packages (from pandas>=1.0.0->geopandas) (2.8.2)\n",
            "Requirement already satisfied: numpy>=1.17.3 in /usr/local/lib/python3.8/dist-packages (from pandas>=1.0.0->geopandas) (1.21.6)\n",
            "Requirement already satisfied: pytz>=2017.3 in /usr/local/lib/python3.8/dist-packages (from pandas>=1.0.0->geopandas) (2022.6)\n",
            "Requirement already satisfied: pyparsing!=3.0.5,>=2.0.2 in /usr/local/lib/python3.8/dist-packages (from packaging->geopandas) (3.0.9)\n",
            "Looking in indexes: https://pypi.org/simple, https://us-python.pkg.dev/colab-wheels/public/simple/\n",
            "Requirement already satisfied: netCDF4 in /usr/local/lib/python3.8/dist-packages (1.6.2)\n",
            "Requirement already satisfied: numpy>=1.9 in /usr/local/lib/python3.8/dist-packages (from netCDF4) (1.21.6)\n",
            "Requirement already satisfied: cftime in /usr/local/lib/python3.8/dist-packages (from netCDF4) (1.6.2)\n",
            "Looking in indexes: https://pypi.org/simple, https://us-python.pkg.dev/colab-wheels/public/simple/\n",
            "Requirement already satisfied: scikit-learn in /usr/local/lib/python3.8/dist-packages (1.0.2)\n",
            "Collecting scikit-learn\n",
            "  Downloading scikit_learn-1.2.0-cp38-cp38-manylinux_2_17_x86_64.manylinux2014_x86_64.whl (9.7 MB)\n",
            "\u001b[K     |████████████████████████████████| 9.7 MB 5.2 MB/s \n",
            "\u001b[?25hRequirement already satisfied: numpy>=1.17.3 in /usr/local/lib/python3.8/dist-packages (from scikit-learn) (1.21.6)\n",
            "Requirement already satisfied: joblib>=1.1.1 in /usr/local/lib/python3.8/dist-packages (from scikit-learn) (1.2.0)\n",
            "Requirement already satisfied: threadpoolctl>=2.0.0 in /usr/local/lib/python3.8/dist-packages (from scikit-learn) (3.1.0)\n",
            "Requirement already satisfied: scipy>=1.3.2 in /usr/local/lib/python3.8/dist-packages (from scikit-learn) (1.7.3)\n",
            "Installing collected packages: scikit-learn\n",
            "  Attempting uninstall: scikit-learn\n",
            "    Found existing installation: scikit-learn 1.0.2\n",
            "    Uninstalling scikit-learn-1.0.2:\n",
            "      Successfully uninstalled scikit-learn-1.0.2\n",
            "Successfully installed scikit-learn-1.2.0\n"
          ]
        }
      ]
    },
    {
      "cell_type": "code",
      "source": [
        "!pip install cartopy"
      ],
      "metadata": {
        "colab": {
          "base_uri": "https://localhost:8080/"
        },
        "id": "yhi9BoghXYR0",
        "outputId": "268dd603-7af0-442f-b63e-e0b4449b35e9"
      },
      "execution_count": null,
      "outputs": [
        {
          "output_type": "stream",
          "name": "stdout",
          "text": [
            "Looking in indexes: https://pypi.org/simple, https://us-python.pkg.dev/colab-wheels/public/simple/\n",
            "Collecting cartopy\n",
            "  Downloading Cartopy-0.21.1.tar.gz (10.9 MB)\n",
            "\u001b[K     |████████████████████████████████| 10.9 MB 5.1 MB/s \n",
            "\u001b[?25h  Installing build dependencies ... \u001b[?25l\u001b[?25hdone\n",
            "  Getting requirements to build wheel ... \u001b[?25l\u001b[?25herror\n",
            "\u001b[33mWARNING: Discarding https://files.pythonhosted.org/packages/e8/11/ed3e364b3910f0951821e6b5a03a03ce425464b72aa3da08d47b78ae17bd/Cartopy-0.21.1.tar.gz#sha256=89d5649712c8582231c6e11825a04c85f6f0cee94dbb89e4db23eabca1cc250a (from https://pypi.org/simple/cartopy/) (requires-python:>=3.8). Command errored out with exit status 1: /usr/bin/python3 /usr/local/lib/python3.8/dist-packages/pip/_vendor/pep517/in_process/_in_process.py get_requires_for_build_wheel /tmp/tmpjcj8awhz Check the logs for full command output.\u001b[0m\n",
            "  Downloading Cartopy-0.21.0.tar.gz (10.9 MB)\n",
            "\u001b[K     |████████████████████████████████| 10.9 MB 47.9 MB/s \n",
            "\u001b[?25h  Installing build dependencies ... \u001b[?25l\u001b[?25hdone\n",
            "  Getting requirements to build wheel ... \u001b[?25l\u001b[?25herror\n",
            "\u001b[33mWARNING: Discarding https://files.pythonhosted.org/packages/40/0c/b673fb89eadf798654652df3dda4b8229ca747568976b7a919d7d65e656e/Cartopy-0.21.0.tar.gz#sha256=ce1d3a28a132e94c89ac33769a50f81f65634ab2bd40556317e15bd6cad1ce42 (from https://pypi.org/simple/cartopy/) (requires-python:>=3.8). Command errored out with exit status 1: /usr/bin/python3 /usr/local/lib/python3.8/dist-packages/pip/_vendor/pep517/in_process/_in_process.py get_requires_for_build_wheel /tmp/tmp5yv4se3v Check the logs for full command output.\u001b[0m\n",
            "  Downloading Cartopy-0.20.3.tar.gz (10.8 MB)\n",
            "\u001b[K     |████████████████████████████████| 10.8 MB 45.7 MB/s \n",
            "\u001b[?25h  Installing build dependencies ... \u001b[?25l\u001b[?25hdone\n",
            "  Getting requirements to build wheel ... \u001b[?25l\u001b[?25herror\n",
            "\u001b[33mWARNING: Discarding https://files.pythonhosted.org/packages/98/a9/0e4000eabadfcff6373c0fec790863b543b919cbfec18aed60d71ba67d5d/Cartopy-0.20.3.tar.gz#sha256=0d60fa2e2fbd77c4d1f6b1f9d3b588966147f07c1b179d2d34570ac1e1b49006 (from https://pypi.org/simple/cartopy/) (requires-python:>=3.7). Command errored out with exit status 1: /usr/bin/python3 /usr/local/lib/python3.8/dist-packages/pip/_vendor/pep517/in_process/_in_process.py get_requires_for_build_wheel /tmp/tmp3g66zxgi Check the logs for full command output.\u001b[0m\n",
            "  Downloading Cartopy-0.20.2.tar.gz (10.8 MB)\n",
            "\u001b[K     |████████████████████████████████| 10.8 MB 53.7 MB/s \n",
            "\u001b[?25h  Installing build dependencies ... \u001b[?25l\u001b[?25hdone\n",
            "  Getting requirements to build wheel ... \u001b[?25l\u001b[?25herror\n",
            "\u001b[33mWARNING: Discarding https://files.pythonhosted.org/packages/f6/55/1e1c737dc9436b320deead73d1c455ddbb74b8b6992081863492f6f6378a/Cartopy-0.20.2.tar.gz#sha256=4d08c198ecaa50a6a6b109d0f14c070e813defc046a83ac5d7ab494f85599e35 (from https://pypi.org/simple/cartopy/) (requires-python:>=3.7). Command errored out with exit status 1: /usr/bin/python3 /usr/local/lib/python3.8/dist-packages/pip/_vendor/pep517/in_process/_in_process.py get_requires_for_build_wheel /tmp/tmp1q1fmis1 Check the logs for full command output.\u001b[0m\n",
            "  Downloading Cartopy-0.20.1.tar.gz (10.8 MB)\n",
            "\u001b[K     |████████████████████████████████| 10.8 MB 52.5 MB/s \n",
            "\u001b[?25h  Installing build dependencies ... \u001b[?25l\u001b[?25hdone\n",
            "  Getting requirements to build wheel ... \u001b[?25l\u001b[?25herror\n",
            "\u001b[33mWARNING: Discarding https://files.pythonhosted.org/packages/fc/59/aa52698e3838f4cd0e7eaa75bd86837e9e0b05041dbdaee3cda2fffced06/Cartopy-0.20.1.tar.gz#sha256=91f87b130e2574547a20cd634498df97d797abd12dcfd0235bc0cdbcec8b05e3 (from https://pypi.org/simple/cartopy/) (requires-python:>=3.7). Command errored out with exit status 1: /usr/bin/python3 /usr/local/lib/python3.8/dist-packages/pip/_vendor/pep517/in_process/_in_process.py get_requires_for_build_wheel /tmp/tmpcik65xc5 Check the logs for full command output.\u001b[0m\n",
            "  Downloading Cartopy-0.20.0.tar.gz (10.8 MB)\n",
            "\u001b[K     |████████████████████████████████| 10.8 MB 46.6 MB/s \n",
            "\u001b[?25h  Installing build dependencies ... \u001b[?25l\u001b[?25hdone\n",
            "  Getting requirements to build wheel ... \u001b[?25l\u001b[?25herror\n",
            "\u001b[33mWARNING: Discarding https://files.pythonhosted.org/packages/0f/c0/58453b036e79046d211f083880d58dcce787e7e07647ac25dc46c6555099/Cartopy-0.20.0.tar.gz#sha256=eae58aff26806e63cf115b2bce9477cedc4aa9f578c5e477b2c25cfa404f2b7a (from https://pypi.org/simple/cartopy/) (requires-python:>=3.7). Command errored out with exit status 1: /usr/bin/python3 /usr/local/lib/python3.8/dist-packages/pip/_vendor/pep517/in_process/_in_process.py get_requires_for_build_wheel /tmp/tmp5fot2mxp Check the logs for full command output.\u001b[0m\n",
            "  Downloading Cartopy-0.19.0.post1.tar.gz (12.1 MB)\n",
            "\u001b[K     |████████████████████████████████| 12.1 MB 140 kB/s \n",
            "\u001b[?25h  Installing build dependencies ... \u001b[?25l\u001b[?25hdone\n",
            "  Getting requirements to build wheel ... \u001b[?25l\u001b[?25hdone\n",
            "    Preparing wheel metadata ... \u001b[?25l\u001b[?25hdone\n",
            "Requirement already satisfied: shapely>=1.5.6 in /usr/local/lib/python3.8/dist-packages (from cartopy) (1.8.5.post1)\n",
            "Requirement already satisfied: numpy>=1.13.3 in /usr/local/lib/python3.8/dist-packages (from cartopy) (1.21.6)\n",
            "Collecting pyshp>=2\n",
            "  Downloading pyshp-2.3.1-py2.py3-none-any.whl (46 kB)\n",
            "\u001b[K     |████████████████████████████████| 46 kB 3.9 MB/s \n",
            "\u001b[?25hBuilding wheels for collected packages: cartopy\n",
            "  Building wheel for cartopy (PEP 517) ... \u001b[?25l\u001b[?25hdone\n",
            "  Created wheel for cartopy: filename=Cartopy-0.19.0.post1-cp38-cp38-linux_x86_64.whl size=12659575 sha256=b9d76fec5785a6debd2ed30e1e1bc743e8ef1c368a149405694d7d0934e117b8\n",
            "  Stored in directory: /root/.cache/pip/wheels/d7/7e/a7/f1de106b1da02e78db1fc6ff482fda367f8902856faa85d1c6\n",
            "Successfully built cartopy\n",
            "Installing collected packages: pyshp, cartopy\n",
            "Successfully installed cartopy-0.19.0.post1 pyshp-2.3.1\n"
          ]
        }
      ]
    },
    {
      "cell_type": "code",
      "source": [
        "import geopandas as gpd\n",
        "import numpy as np\n",
        "import matplotlib.pyplot as plt\n",
        "from matplotlib import gridspec\n",
        "from matplotlib import interactive\n",
        "from matplotlib import rcParams\n",
        "import xarray as xr\n",
        "interactive(True)\n",
        "import netCDF4\n",
        "from sklearn.decomposition import PCA\n",
        "from sklearn.cross_decomposition import CCA"
      ],
      "metadata": {
        "id": "KbRpXyrc5pXP",
        "colab": {
          "base_uri": "https://localhost:8080/"
        },
        "outputId": "72824ee4-5b98-4d44-cb5e-fd5de8431642"
      },
      "execution_count": null,
      "outputs": [
        {
          "output_type": "stream",
          "name": "stderr",
          "text": [
            "/usr/local/lib/python3.8/dist-packages/geopandas/_compat.py:123: UserWarning: The Shapely GEOS version (3.6.2-CAPI-1.10.2 4d2925d6) is incompatible with the GEOS version PyGEOS was compiled with (3.10.4-CAPI-1.16.2). Conversions between both will be slow.\n",
            "  warnings.warn(\n"
          ]
        }
      ]
    },
    {
      "cell_type": "code",
      "source": [
        "import cartopy.crs as ccrs"
      ],
      "metadata": {
        "id": "_wpl937uXLed"
      },
      "execution_count": null,
      "outputs": []
    },
    {
      "cell_type": "code",
      "source": [
        "#bring in uniform warming files\n",
        "\n",
        "#uniform warming x1; integrated vapor transport, geopotential height, and surface temperature\n",
        "ds1 = xr.open_dataset('f.ie12.E1850C5.f09_f09.PLIO_c.uniwar_1.IVT.0011.0040.nc')\n",
        "ds2 = xr.open_dataset('f.ie12.E1850C5.f09_f09.PLIO_c.uniwar_1.Z3.0011.0040.nc')\n",
        "ds13 = xr.open_dataset('f.ie12.E1850C5.f09_f09.PLIO_c.uniwar_1.TS.0011.0040.nc')\n",
        "\n",
        "#uniform warming x2\n",
        "ds3 = xr.open_dataset('f.ie12.E1850C5.f09_f09.PLIO_c.uniwar_2.IVT.0011.0040.nc')\n",
        "ds4 = xr.open_dataset('f.ie12.E1850C5.f09_f09.PLIO_c.uniwar_2.Z3.0011.0040.nc')\n",
        "ds14 = xr.open_dataset('f.ie12.E1850C5.f09_f09.PLIO_c.uniwar_2.TS.0011.0040.nc')"
      ],
      "metadata": {
        "id": "GhUsKXiL7j_l"
      },
      "execution_count": null,
      "outputs": []
    },
    {
      "cell_type": "code",
      "source": [
        "cd ../"
      ],
      "metadata": {
        "colab": {
          "base_uri": "https://localhost:8080/"
        },
        "id": "ghWc7cG-_SEf",
        "outputId": "f7d6be49-b272-4f2a-c043-4f1e3e770579"
      },
      "execution_count": null,
      "outputs": [
        {
          "output_type": "stream",
          "name": "stdout",
          "text": [
            "/content/drive/.shortcut-targets-by-id/1-n_IOvxe34aCTrxrJlY5ZJYz-K0wNK0_/For_Ellen/Ran_Feng_isotope_sensitivity/new_runs\n"
          ]
        }
      ]
    },
    {
      "cell_type": "code",
      "source": [
        "cd ./mhw"
      ],
      "metadata": {
        "colab": {
          "base_uri": "https://localhost:8080/"
        },
        "id": "U042IQbS_bfl",
        "outputId": "ecb580a9-12e3-47dc-b9a7-d1d1c34986ae"
      },
      "execution_count": null,
      "outputs": [
        {
          "output_type": "stream",
          "name": "stdout",
          "text": [
            "/content/drive/.shortcut-targets-by-id/1-n_IOvxe34aCTrxrJlY5ZJYz-K0wNK0_/For_Ellen/Ran_Feng_isotope_sensitivity/new_runs/mhw\n"
          ]
        }
      ]
    },
    {
      "cell_type": "code",
      "source": [
        "#bring in marine heatwave files\n",
        "\n",
        "#mhw 1\n",
        "ds5 = xr.open_dataset('f.ie12.E1850C5.f09_f09.PLIO_c.mhw_1.IVT.0011.0040.nc')\n",
        "ds6 = xr.open_dataset('f.ie12.E1850C5.f09_f09.PLIO_c.mhw_1.Z3.0011.0040.nc')\n",
        "ds15 = xr.open_dataset('f.ie12.E1850C5.f09_f09.PLIO_c.mhw_1.TS.0011.0040.nc')\n",
        "\n",
        "# #mhw 2\n",
        "ds7 = xr.open_dataset('f.ie12.E1850C5.f09_f09.PLIO_c.mhw_2.IVT.0011.0040.nc')\n",
        "ds8 = xr.open_dataset('f.ie12.E1850C5.f09_f09.PLIO_c.mhw_2.Z3.0011.0040.nc')\n",
        "ds16 = xr.open_dataset('f.ie12.E1850C5.f09_f09.PLIO_c.mhw_2.TS.0011.0040.nc')\n",
        "\n",
        "#mhw 3\n",
        "ds9 = xr.open_dataset('f.ie12.E1850C5.f09_f09.PLIO_c.mhw_3.IVT.0011.0040.nc')\n",
        "ds10 = xr.open_dataset('f.ie12.E1850C5.f09_f09.PLIO_c.mhw_3.Z3.0011.0040.nc')\n",
        "ds17 = xr.open_dataset('f.ie12.E1850C5.f09_f09.PLIO_c.mhw_3.TS.0011.0040.nc')\n",
        "\n",
        "#mhw 4\n",
        "ds11 = xr.open_dataset('f.ie12.E1850C5.f09_f09.PLIO_c.mhw_4.IVT.0011.0040.nc')\n",
        "ds12 = xr.open_dataset('f.ie12.E1850C5.f09_f09.PLIO_c.mhw_4.Z3.0011.0040.nc')\n",
        "ds18 = xr.open_dataset('f.ie12.E1850C5.f09_f09.PLIO_c.mhw_4.TS.0011.0040.nc')"
      ],
      "metadata": {
        "id": "ovHDDD_y_lIJ"
      },
      "execution_count": null,
      "outputs": []
    },
    {
      "cell_type": "code",
      "source": [
        "#set lat and lon bounds\n",
        "\n",
        "#uniform warming\n",
        "ivt_uni1 = ds1.IVT.sel(lat=slice(-30, 60), lon=slice(120, 270))\n",
        "lat_ivt_u1 = ds1.lat.sel(lat=slice(-30, 60))\n",
        "lon_ivt_u1 = ds1.lon.sel(lon=slice(120, 270))\n",
        "\n",
        "sst_uni1 = ds13.TS.sel(lat=slice(-30, 60), lon=slice(120, 270))\n",
        "lat_sst_u13 = ds13.lat.sel(lat=slice(-30, 60))\n",
        "lon_sst_u13 = ds13.lon.sel(lon=slice(120, 270))\n",
        "\n",
        "# gph_uni1 = ds2.Z3.sel(lat=slice(-30, 60), lon=slice(120, 270))\n",
        "# lat_gph_u2 = ds2.lat.sel(lat=slice(-30, 60))\n",
        "# lon_gph_u2 = ds2.lon.sel(lon=slice(120, 270))\n",
        "\n",
        "\n",
        "ivt_uni2 = ds3.IVT.sel(lat=slice(-30, 60), lon=slice(120, 270))\n",
        "lat_ivt_u3 = ds3.lat.sel(lat=slice(-30, 60))\n",
        "lon_ivt_u3 = ds3.lon.sel(lon=slice(120, 270))\n",
        "\n",
        "sst_uni2 = ds14.TS.sel(lat=slice(-30, 60), lon=slice(120, 270))\n",
        "lat_sst_u14 = ds14.lat.sel(lat=slice(-30, 60))\n",
        "lon_sst_u14 = ds14.lon.sel(lon=slice(120, 270))\n",
        "\n",
        "# gph_uni2 = ds4.Z3.sel(lat=slice(-30, 60), lon=slice(120, 270))\n",
        "# lat_gph_u4 = ds4.lat.sel(lat=slice(-30, 60))\n",
        "# lon_gph_u4 = ds4.lon.sel(lon=slice(120, 270))\n",
        "\n",
        "#marine heatwave\n",
        "\n",
        "ivt_mhw1 = ds5.IVT.sel(lat=slice(-30, 60), lon=slice(120, 270))\n",
        "lat_ivt5 = ds5.lat.sel(lat=slice(-30, 60))\n",
        "lon_ivt5 = ds5.lon.sel(lon=slice(120, 270))\n",
        "\n",
        "sst_mhw1 = ds15.TS.sel(lat=slice(-30, 60), lon=slice(120, 270))\n",
        "lat_sst15 = ds15.lat.sel(lat=slice(-30, 60))\n",
        "lon_sst15 = ds15.lon.sel(lon=slice(120, 270))\n",
        "\n",
        "# gph_mhw1 = ds6.Z3.sel(lat=slice(-30, 60), lon=slice(120, 270))\n",
        "# lat_gph6 = ds6.lat.sel(lat=slice(-30, 60))\n",
        "# lon_gph6 = ds6.lon.sel(lon=slice(120, 270))\n",
        "\n",
        "\n",
        "ivt_mhw2 = ds7.IVT.sel(lat=slice(-30, 60), lon=slice(120, 270))\n",
        "lat_ivt7 = ds7.lat.sel(lat=slice(-30, 60))\n",
        "lon_ivt7 = ds7.lon.sel(lon=slice(120, 270))\n",
        "\n",
        "sst_mhw2 = ds16.TS.sel(lat=slice(-30, 60), lon=slice(120, 270))\n",
        "lat_sst16 = ds16.lat.sel(lat=slice(-30, 60))\n",
        "lon_sst16 = ds16.lon.sel(lon=slice(120, 270))\n",
        "\n",
        "# gph_mhw2 = ds8.Z3.sel(lat=slice(-30, 60), lon=slice(120, 270))\n",
        "# lat_gph8 = ds8.lat.sel(lat=slice(-30, 60))\n",
        "# lon_gph8 = ds8.lon.sel(lon=slice(120, 270))\n",
        "\n",
        "\n",
        "ivt_mhw3 = ds9.IVT.sel(lat=slice(-30, 60), lon=slice(120, 270))\n",
        "lat_ivt9 = ds9.lat.sel(lat=slice(-30, 60))\n",
        "lon_ivt9 = ds9.lon.sel(lon=slice(120, 270))\n",
        "\n",
        "sst_mhw3 = ds17.TS.sel(lat=slice(-30, 60), lon=slice(120, 270))\n",
        "lat_sst17 = ds17.lat.sel(lat=slice(-30, 60))\n",
        "lon_sst17 = ds17.lon.sel(lon=slice(120, 270))\n",
        "\n",
        "# gph_mhw3 = ds10.Z3.sel(lat=slice(-30, 60), lon=slice(120, 270))\n",
        "# lat_gph10 = ds10.lat.sel(lat=slice(-30, 60))\n",
        "# lon_gph10 = ds10.lon.sel(lon=slice(120, 270))\n",
        "\n",
        "\n",
        "ivt_mhw4 = ds11.IVT.sel(lat=slice(-30, 60), lon=slice(120, 270))\n",
        "lat_ivt11 = ds11.lat.sel(lat=slice(-30, 60))\n",
        "lon_ivt11 = ds11.lon.sel(lon=slice(120, 270))\n",
        "\n",
        "sst_mhw4 = ds18.TS.sel(lat=slice(-30, 60), lon=slice(120, 270))\n",
        "lat_sst18 = ds18.lat.sel(lat=slice(-30, 60))\n",
        "lon_sst18 = ds18.lon.sel(lon=slice(120, 270))\n",
        "\n",
        "# gph_mhw4 = ds12.Z3.sel(lat=slice(-30, 60), lon=slice(120, 270))\n",
        "# lat_gph12 = ds12.lat.sel(lat=slice(-30, 60))\n",
        "# lon_gph12 = ds12.lon.sel(lon=slice(120, 270))"
      ],
      "metadata": {
        "id": "_-P50J6H7xla"
      },
      "execution_count": null,
      "outputs": []
    },
    {
      "cell_type": "code",
      "source": [
        "#preprocess IVT\n",
        "\n",
        "#uniform warming\n",
        "ivt_uni1_2d = ivt_uni1.values\n",
        "ntime, nrow_uni, ncol_uni = ivt_uni1_2d.shape\n",
        "ivt_uni1_2d = np.reshape(ivt_uni1_2d, (ntime, nrow_uni*ncol_uni), order='F')\n",
        "\n",
        "pca_ivt_uni1 = PCA(n_components=6)\n",
        "pca_ivt_uni1.fit(ivt_uni1_2d)\n",
        "ivt_uni1_2d_pcs = pca_ivt_uni1.inverse_transform(pca_ivt_uni1.transform(ivt_uni1_2d))\n",
        "print(pca_ivt_uni1.explained_variance_ratio_.sum())\n",
        "\n",
        "\n",
        "ivt_uni2_2d = ivt_uni2.values\n",
        "ntime, nrow_uni, ncol_uni = ivt_uni2_2d.shape\n",
        "ivt_uni2_2d = np.reshape(ivt_uni2_2d, (ntime, nrow_uni*ncol_uni), order='F')\n",
        "\n",
        "pca_ivt_uni2 = PCA(n_components=6)\n",
        "pca_ivt_uni2.fit(ivt_uni2_2d)\n",
        "ivt_uni2_2d_pcs = pca_ivt_uni2.inverse_transform(pca_ivt_uni2.transform(ivt_uni2_2d))\n",
        "print(pca_ivt_uni2.explained_variance_ratio_.sum())\n",
        "\n",
        "#marine heatwaves\n",
        "ivt_mhw1_2d = ivt_mhw1.values\n",
        "ntime, nrow_ivt, ncol_ivt = ivt_mhw1_2d.shape\n",
        "ivt_mhw1_2d = np.reshape(ivt_mhw1_2d, (ntime, nrow_ivt*ncol_ivt), order='F')\n",
        "\n",
        "pca_ivt_mhw1 = PCA(n_components=6)\n",
        "pca_ivt_mhw1.fit(ivt_mhw1_2d)\n",
        "ivt_mhw1_2d_pcs = pca_ivt_mhw1.inverse_transform(pca_ivt_mhw1.transform(ivt_mhw1_2d))\n",
        "print(pca_ivt_mhw1.explained_variance_ratio_.sum())\n",
        "\n",
        "\n",
        "ivt_mhw2_2d = ivt_mhw2.values\n",
        "ntime, nrow_ivt, ncol_ivt = ivt_mhw2_2d.shape\n",
        "ivt_mhw2_2d = np.reshape(ivt_mhw2_2d, (ntime, nrow_ivt*ncol_ivt), order='F')\n",
        "\n",
        "pca_ivt_mhw2 = PCA(n_components=6)\n",
        "pca_ivt_mhw2.fit(ivt_mhw2_2d)\n",
        "ivt_mhw2_2d_pcs = pca_ivt_mhw1.inverse_transform(pca_ivt_mhw2.transform(ivt_mhw2_2d))\n",
        "print(pca_ivt_mhw2.explained_variance_ratio_.sum())\n",
        "\n",
        "\n",
        "ivt_mhw3_2d = ivt_mhw3.values\n",
        "ntime, nrow_ivt, ncol_ivt = ivt_mhw3_2d.shape\n",
        "ivt_mhw3_2d = np.reshape(ivt_mhw3_2d, (ntime, nrow_ivt*ncol_ivt), order='F')\n",
        "\n",
        "pca_ivt_mhw3 = PCA(n_components=6)\n",
        "pca_ivt_mhw3.fit(ivt_mhw3_2d)\n",
        "ivt_mhw3_2d_pcs = pca_ivt_mhw3.inverse_transform(pca_ivt_mhw3.transform(ivt_mhw3_2d))\n",
        "print(pca_ivt_mhw3.explained_variance_ratio_.sum())\n",
        "\n",
        "\n",
        "ivt_mhw4_2d = ivt_mhw4.values\n",
        "ntime, nrow_ivt, ncol_ivt = ivt_mhw4_2d.shape\n",
        "ivt_mhw4_2d = np.reshape(ivt_mhw4_2d, (ntime, nrow_ivt*ncol_ivt), order='F')\n",
        "\n",
        "pca_ivt_mhw4 = PCA(n_components=6)\n",
        "pca_ivt_mhw4.fit(ivt_mhw4_2d)\n",
        "ivt_mhw4_2d_pcs = pca_ivt_mhw1.inverse_transform(pca_ivt_mhw4.transform(ivt_mhw4_2d))\n",
        "print(pca_ivt_mhw4.explained_variance_ratio_.sum())"
      ],
      "metadata": {
        "colab": {
          "base_uri": "https://localhost:8080/"
        },
        "id": "tcTHNPut8mfu",
        "outputId": "163a7f62-34a5-45bb-f895-0135ddd58c70"
      },
      "execution_count": null,
      "outputs": [
        {
          "output_type": "stream",
          "name": "stdout",
          "text": [
            "0.98081887\n",
            "0.97787\n",
            "0.9763503\n",
            "0.9781294\n",
            "0.9776983\n",
            "0.98021257\n"
          ]
        }
      ]
    },
    {
      "cell_type": "code",
      "source": [
        "sst_uni1_2d = sst_uni1.values\n",
        "ntime, nrow_unig, ncol_unig = sst_uni1_2d.shape\n",
        "sst_uni1_2d = np.reshape(sst_uni1_2d, (ntime, nrow_unig*ncol_unig), order='F')\n",
        "\n",
        "pca_sst_uni1 = PCA(n_components=6)\n",
        "pca_sst_uni1.fit(sst_uni1_2d)\n",
        "sst_uni1_2d_pcs = pca_sst_uni1.inverse_transform(pca_sst_uni1.transform(sst_uni1_2d))\n",
        "print(pca_sst_uni1.explained_variance_ratio_.sum())\n",
        "\n",
        "\n",
        "sst_uni2_2d = sst_uni2.values\n",
        "ntime, nrow_unig, ncol_unig = sst_uni2_2d.shape\n",
        "sst_uni2_2d = np.reshape(sst_uni2_2d, (ntime, nrow_unig*ncol_unig), order='F')\n",
        "\n",
        "pca_sst_uni2 = PCA(n_components=6)\n",
        "pca_sst_uni2.fit(sst_uni2_2d)\n",
        "sst_uni2_2d_pcs = pca_sst_uni2.inverse_transform(pca_sst_uni2.transform(sst_uni2_2d))\n",
        "print(pca_sst_uni2.explained_variance_ratio_.sum())\n",
        "\n",
        "#marine heatwaves\n",
        "sst_mhw1_2d = sst_mhw1.values\n",
        "ntime, nrow_sst, ncol_sst = sst_mhw1_2d.shape\n",
        "sst_mhw1_2d = np.reshape(sst_mhw1_2d, (ntime, nrow_sst*ncol_sst), order='F')\n",
        "\n",
        "pca_sst_mhw1 = PCA(n_components=6)\n",
        "pca_sst_mhw1.fit(sst_mhw1_2d)\n",
        "sst_mhw1_2d_pcs = pca_sst_mhw1.inverse_transform(pca_sst_mhw1.transform(sst_mhw1_2d))\n",
        "print(pca_sst_mhw1.explained_variance_ratio_.sum())\n",
        "\n",
        "\n",
        "sst_mhw2_2d = sst_mhw2.values\n",
        "ntime, nrow_sst, ncol_sst = sst_mhw2_2d.shape\n",
        "sst_mhw2_2d = np.reshape(sst_mhw2_2d, (ntime, nrow_sst*ncol_sst), order='F')\n",
        "\n",
        "pca_sst_mhw2 = PCA(n_components=6)\n",
        "pca_sst_mhw2.fit(sst_mhw2_2d)\n",
        "sst_mhw2_2d_pcs = pca_sst_mhw1.inverse_transform(pca_sst_mhw2.transform(sst_mhw2_2d))\n",
        "print(pca_sst_mhw2.explained_variance_ratio_.sum())\n",
        "\n",
        "\n",
        "sst_mhw3_2d = sst_mhw3.values\n",
        "ntime, nrow_sst, ncol_sst = sst_mhw3_2d.shape\n",
        "sst_mhw3_2d = np.reshape(sst_mhw3_2d, (ntime, nrow_sst*ncol_sst), order='F')\n",
        "\n",
        "pca_sst_mhw3 = PCA(n_components=6)\n",
        "pca_sst_mhw3.fit(sst_mhw3_2d)\n",
        "sst_mhw3_2d_pcs = pca_sst_mhw3.inverse_transform(pca_sst_mhw3.transform(sst_mhw3_2d))\n",
        "print(pca_sst_mhw3.explained_variance_ratio_.sum())\n",
        "\n",
        "\n",
        "sst_mhw4_2d = sst_mhw4.values\n",
        "ntime, nrow_sst, ncol_sst = sst_mhw4_2d.shape\n",
        "sst_mhw4_2d = np.reshape(sst_mhw4_2d, (ntime, nrow_sst*ncol_sst), order='F')\n",
        "\n",
        "pca_sst_mhw4 = PCA(n_components=6)\n",
        "pca_sst_mhw4.fit(sst_mhw4_2d)\n",
        "sst_mhw4_2d_pcs = pca_sst_mhw1.inverse_transform(pca_sst_mhw4.transform(sst_mhw4_2d))\n",
        "print(pca_sst_mhw4.explained_variance_ratio_.sum())"
      ],
      "metadata": {
        "colab": {
          "base_uri": "https://localhost:8080/"
        },
        "id": "jrrPGojpJnMJ",
        "outputId": "58393562-e4c2-4797-ca4a-fd6e2514b8ec"
      },
      "execution_count": null,
      "outputs": [
        {
          "output_type": "stream",
          "name": "stdout",
          "text": [
            "0.9994809\n",
            "0.9994952\n",
            "0.9994122\n",
            "0.9994282\n",
            "0.9994222\n",
            "0.9994109\n"
          ]
        }
      ]
    },
    {
      "cell_type": "code",
      "source": [
        "#preprocess gph\n",
        "\n",
        "#uniform warming\n",
        "# gph_uni1_2d = gph_uni1.values\n",
        "# ntime, nrow_unig, ncol_unig = gph_uni1_2d.shape\n",
        "# gph_uni1_2d = np.reshape(gph_uni1_2d, (ntime, nrow_unig*ncol_unig), order='F')\n",
        "\n",
        "# pca_gph_uni1 = PCA(n_components=6)\n",
        "# pca_gph_uni1.fit(gph_uni1_2d)\n",
        "# gph_uni1_2d_pcs = pca_gph_uni1.inverse_transform(pca_gph_uni1.transform(gph_uni1_2d))\n",
        "# print(pca_gph_uni1.explained_variance_ratio_.sum())\n",
        "\n",
        "\n",
        "# gph_uni2_2d = gph_uni2.values\n",
        "# ntime, nrow_unig, ncol_unig = gph_uni2_2d.shape\n",
        "# gph_uni2_2d = np.reshape(gph_uni2_2d, (ntime, nrow_unig*ncol_unig), order='F')\n",
        "\n",
        "# pca_gph_uni2 = PCA(n_components=6)\n",
        "# pca_gph_uni2.fit(gph_uni2_2d)\n",
        "# gph_uni2_2d_pcs = pca_gph_uni2.inverse_transform(pca_gph_uni2.transform(gph_uni2_2d))\n",
        "# print(pca_gph_uni2.explained_variance_ratio_.sum())\n",
        "\n",
        "# #marine heatwaves\n",
        "# gph_mhw1_2d = gph_mhw1.values\n",
        "# ntime, nrow_gph, ncol_gph = gph_mhw1_2d.shape\n",
        "# gph_mhw1_2d = np.reshape(gph_mhw1_2d, (ntime, nrow_gph*ncol_gph), order='F')\n",
        "\n",
        "# pca_gph_mhw1 = PCA(n_components=6)\n",
        "# pca_gph_mhw1.fit(gph_mhw1_2d)\n",
        "# gph_mhw1_2d_pcs = pca_gph_mhw1.inverse_transform(pca_gph_mhw1.transform(gph_mhw1_2d))\n",
        "# print(pca_gph_mhw1.explained_variance_ratio_.sum())\n",
        "\n",
        "\n",
        "# gph_mhw2_2d = gph_mhw2.values\n",
        "# ntime, nrow_gph, ncol_gph = gph_mhw2_2d.shape\n",
        "# gph_mhw2_2d = np.reshape(gph_mhw2_2d, (ntime, nrow_gph*ncol_gph), order='F')\n",
        "\n",
        "# pca_gph_mhw2 = PCA(n_components=6)\n",
        "# pca_gph_mhw2.fit(gph_mhw2_2d)\n",
        "# gph_mhw2_2d_pcs = pca_gph_mhw1.inverse_transform(pca_gph_mhw2.transform(gph_mhw2_2d))\n",
        "# print(pca_gph_mhw2.explained_variance_ratio_.sum())\n",
        "\n",
        "\n",
        "# gph_mhw3_2d = gph_mhw3.values\n",
        "# ntime, nrow_gph, ncol_gph = gph_mhw3_2d.shape\n",
        "# gph_mhw3_2d = np.reshape(gph_mhw3_2d, (ntime, nrow_gph*ncol_gph), order='F')\n",
        "\n",
        "# pca_gph_mhw3 = PCA(n_components=6)\n",
        "# pca_gph_mhw3.fit(gph_mhw3_2d)\n",
        "# gph_mhw3_2d_pcs = pca_gph_mhw3.inverse_transform(pca_gph_mhw3.transform(gph_mhw3_2d))\n",
        "# print(pca_gph_mhw3.explained_variance_ratio_.sum())\n",
        "\n",
        "\n",
        "# gph_mhw4_2d = gph_mhw4.values\n",
        "# ntime, nrow_gph, ncol_gph = gph_mhw4_2d.shape\n",
        "# gph_mhw4_2d = np.reshape(gph_mhw4_2d, (ntime, nrow_gph*ncol_gph), order='F')\n",
        "\n",
        "# pca_gph_mhw4 = PCA(n_components=6)\n",
        "# pca_gph_mhw4.fit(gph_mhw4_2d)\n",
        "# gph_mhw4_2d_pcs = pca_gph_mhw1.inverse_transform(pca_gph_mhw4.transform(gph_mhw4_2d))\n",
        "# print(pca_gph_mhw4.explained_variance_ratio_.sum())"
      ],
      "metadata": {
        "id": "cnOGFqCVSX0G"
      },
      "execution_count": null,
      "outputs": []
    },
    {
      "cell_type": "code",
      "source": [
        "#CCA for IVT of uniform warming x1\n",
        "cca = CCA(n_components=1)\n",
        "ivt_uni1_c, sst_uni1_c = cca.fit_transform(ivt_uni1_2d, sst_uni1_2d)\n",
        "\n",
        "ivt_uni1_c /= ivt_uni1_c.std(axis=0)\n",
        "sst_uni1_c /= sst_uni1_c.std(axis=0)\n",
        "\n",
        "A1 = cca.x_weights_\n",
        "B1 = cca.y_weights_\n",
        "A1 = np.reshape(A1, (nrow_ivt,ncol_ivt), order='F')\n",
        "\n",
        "BB1 = np.ones([nrow_sst*ncol_sst, 1])\n",
        "BB1 = BB1.astype(B1.dtype)\n",
        "BB1 = BB1.reshape([nrow_sst,ncol_sst], order='F')"
      ],
      "metadata": {
        "id": "xmj3VLbbNO7v"
      },
      "execution_count": null,
      "outputs": []
    },
    {
      "cell_type": "code",
      "source": [
        "#CCA for IVT of uniform warming x2\n",
        "cca = CCA(n_components=1)\n",
        "ivt_uni2_c, sst_uni2_c = cca.fit_transform(ivt_uni2_2d, sst_uni2_2d)\n",
        "\n",
        "ivt_uni2_c /= ivt_uni2_c.std(axis=0)\n",
        "sst_uni2_c /= sst_uni2_c.std(axis=0)\n",
        "\n",
        "A2 = cca.x_weights_\n",
        "B2 = cca.y_weights_\n",
        "A2 = np.reshape(A2, (nrow_ivt,ncol_ivt), order='F')\n",
        "\n",
        "BB2 = np.ones([nrow_sst*ncol_sst, 1])\n",
        "BB2 = BB2.astype(B2.dtype)\n",
        "BB2 = BB2.reshape([nrow_sst,ncol_sst], order='F')"
      ],
      "metadata": {
        "id": "rlwOkhjsNivf"
      },
      "execution_count": null,
      "outputs": []
    },
    {
      "cell_type": "code",
      "source": [
        "#CCA for IVT and GPH of MHW1\n",
        "cca = CCA(n_components=1)\n",
        "ivt_mhw1_c, sst_mhw1_c = cca.fit_transform(ivt_mhw1_2d, sst_mhw1_2d)\n",
        "\n",
        "ivt_mhw1_c /= ivt_mhw1_c.std(axis=0)\n",
        "sst_mhw1_c /= sst_mhw1_c.std(axis=0)\n",
        "\n",
        "A3 = cca.x_weights_\n",
        "B3 = cca.y_weights_\n",
        "A3 = np.reshape(A3, (nrow_ivt,ncol_ivt), order='F')\n",
        "\n",
        "BB3 = np.ones([nrow_sst*ncol_sst, 1])\n",
        "BB3 = BB3.astype(B3.dtype)\n",
        "BB3 = BB3.reshape([nrow_sst,ncol_sst], order='F')"
      ],
      "metadata": {
        "id": "rGGBFwFfAkcw"
      },
      "execution_count": null,
      "outputs": []
    },
    {
      "cell_type": "code",
      "source": [
        "#CCA for IVT and GPH of MHW2\n",
        "cca = CCA(n_components=1)\n",
        "ivt_mhw2_c, sst_mhw2_c = cca.fit_transform(ivt_mhw2_2d, sst_mhw2_2d)\n",
        "\n",
        "ivt_mhw2_c /= ivt_mhw2_c.std(axis=0)\n",
        "sst_mhw2_c /= sst_mhw2_c.std(axis=0)\n",
        "\n",
        "A4 = cca.x_weights_\n",
        "B4 = cca.y_weights_\n",
        "A4 = np.reshape(A4, (nrow_ivt,ncol_ivt), order='F')\n",
        "\n",
        "BB4 = np.ones([nrow_sst*ncol_sst, 1])\n",
        "BB4 = BB4.astype(B4.dtype)\n",
        "BB4 = BB4.reshape([nrow_sst,ncol_sst], order='F')"
      ],
      "metadata": {
        "id": "ooKWobLGOAM2"
      },
      "execution_count": null,
      "outputs": []
    },
    {
      "cell_type": "code",
      "source": [
        "#CCA for IVT and GPH of MHW3\n",
        "cca = CCA(n_components=1)\n",
        "ivt_mhw3_c, sst_mhw3_c = cca.fit_transform(ivt_mhw3_2d, sst_mhw3_2d)\n",
        "\n",
        "ivt_mhw3_c /= ivt_mhw3_c.std(axis=0)\n",
        "sst_mhw3_c /= sst_mhw3_c.std(axis=0)\n",
        "\n",
        "A5 = cca.x_weights_\n",
        "B5 = cca.y_weights_\n",
        "A5 = np.reshape(A5, (nrow_ivt,ncol_ivt), order='F')\n",
        "\n",
        "BB5 = np.ones([nrow_sst*ncol_sst, 1])\n",
        "BB5 = BB5.astype(B5.dtype)\n",
        "BB5 = BB5.reshape([nrow_sst,ncol_sst], order='F')"
      ],
      "metadata": {
        "id": "WSur1x7AOhyz"
      },
      "execution_count": null,
      "outputs": []
    },
    {
      "cell_type": "code",
      "source": [
        "#CCA for IVT and GPH of MHW4\n",
        "cca = CCA(n_components=1)\n",
        "ivt_mhw4_c, sst_mhw4_c = cca.fit_transform(ivt_mhw4_2d, sst_mhw4_2d)\n",
        "\n",
        "ivt_mhw4_c /= ivt_mhw4_c.std(axis=0)\n",
        "sst_mhw4_c /= sst_mhw4_c.std(axis=0)\n",
        "\n",
        "A6 = cca.x_weights_\n",
        "B6 = cca.y_weights_\n",
        "A6 = np.reshape(A6, (nrow_ivt,ncol_ivt), order='F')\n",
        "\n",
        "BB6 = np.ones([nrow_sst*ncol_sst, 1])\n",
        "BB6 = BB6.astype(B6.dtype)\n",
        "BB6 = BB6.reshape([nrow_sst,ncol_sst], order='F')"
      ],
      "metadata": {
        "id": "pL3RUA75PkMM"
      },
      "execution_count": null,
      "outputs": []
    },
    {
      "cell_type": "code",
      "source": [
        "!pip uninstall shapely\n",
        "!pip install shapely --no-binary shapely"
      ],
      "metadata": {
        "colab": {
          "base_uri": "https://localhost:8080/"
        },
        "id": "ZBO8i0MOGDes",
        "outputId": "ee4a9e3d-209e-4e2f-d562-56c1d8a3eea4"
      },
      "execution_count": null,
      "outputs": [
        {
          "output_type": "stream",
          "name": "stdout",
          "text": [
            "Found existing installation: Shapely 1.8.5.post1\n",
            "Uninstalling Shapely-1.8.5.post1:\n",
            "  Would remove:\n",
            "    /usr/local/lib/python3.8/dist-packages/Shapely-1.8.5.post1.dist-info/*\n",
            "    /usr/local/lib/python3.8/dist-packages/Shapely.libs/libgeos-35e678a0.so.3.10.3\n",
            "    /usr/local/lib/python3.8/dist-packages/Shapely.libs/libgeos_c-c8ec7514.so.1.16.1\n",
            "    /usr/local/lib/python3.8/dist-packages/shapely/*\n",
            "Proceed (y/n)? y\n",
            "  Successfully uninstalled Shapely-1.8.5.post1\n",
            "Looking in indexes: https://pypi.org/simple, https://us-python.pkg.dev/colab-wheels/public/simple/\n",
            "Collecting shapely\n",
            "  Downloading shapely-2.0.0.tar.gz (274 kB)\n",
            "\u001b[K     |████████████████████████████████| 274 kB 5.4 MB/s \n",
            "\u001b[?25h  Installing build dependencies ... \u001b[?25l\u001b[?25hdone\n",
            "  Getting requirements to build wheel ... \u001b[?25l\u001b[?25hdone\n",
            "  Installing backend dependencies ... \u001b[?25l\u001b[?25hdone\n",
            "    Preparing wheel metadata ... \u001b[?25l\u001b[?25hdone\n",
            "\u001b[33m  WARNING: Generating metadata for package shapely produced metadata for project name unknown. Fix your #egg=shapely fragments.\u001b[0m\n",
            "\u001b[33mWARNING: Discarding https://files.pythonhosted.org/packages/61/76/6e635cc4ba33e8c170ef5934dad5c269dc5cb9607e878efb2aba12f78361/shapely-2.0.0.tar.gz#sha256=11f1b1231a6c04213fb1226c6968d1b1b3b369ec42d1e9655066af87631860ea (from https://pypi.org/simple/shapely/) (requires-python:>=3.7). Requested unknown from https://files.pythonhosted.org/packages/61/76/6e635cc4ba33e8c170ef5934dad5c269dc5cb9607e878efb2aba12f78361/shapely-2.0.0.tar.gz#sha256=11f1b1231a6c04213fb1226c6968d1b1b3b369ec42d1e9655066af87631860ea has inconsistent name: filename has 'shapely', but metadata has 'UNKNOWN'\u001b[0m\n",
            "  Downloading Shapely-1.8.5.post1.tar.gz (200 kB)\n",
            "\u001b[K     |████████████████████████████████| 200 kB 48.3 MB/s \n",
            "\u001b[?25h  Installing build dependencies ... \u001b[?25l\u001b[?25hdone\n",
            "\u001b[33m  WARNING: Missing build requirements in pyproject.toml for shapely from https://files.pythonhosted.org/packages/92/2e/a8bbe3c6b414c3c61c4b639ab16d5b1f9c4c4095817d417b503413e613c0/Shapely-1.8.5.post1.tar.gz#sha256=ef3be705c3eac282a28058e6c6e5503419b250f482320df2172abcbea642c831.\u001b[0m\n",
            "\u001b[33m  WARNING: The project does not specify a build backend, and pip cannot fall back to setuptools without 'wheel'.\u001b[0m\n",
            "  Getting requirements to build wheel ... \u001b[?25l\u001b[?25hdone\n",
            "  Installing backend dependencies ... \u001b[?25l\u001b[?25hdone\n",
            "    Preparing wheel metadata ... \u001b[?25l\u001b[?25hdone\n",
            "Building wheels for collected packages: shapely\n",
            "  Building wheel for shapely (PEP 517) ... \u001b[?25l\u001b[?25hdone\n",
            "  Created wheel for shapely: filename=Shapely-1.8.5.post1-cp38-cp38-linux_x86_64.whl size=755476 sha256=305ad1f382269377e038a9e80469111dbfb371e7e31f67447f9bb471597787a2\n",
            "  Stored in directory: /root/.cache/pip/wheels/1e/b7/86/5badb596b4dcdcb8f0fa49a4b83e7d934681843c6dc406b16d\n",
            "Successfully built shapely\n",
            "Installing collected packages: shapely\n",
            "Successfully installed shapely-1.8.5.post1\n"
          ]
        }
      ]
    },
    {
      "cell_type": "code",
      "source": [
        "#plot IVT anomoly CCA\n",
        "\n",
        "fig = plt.figure()\n",
        "extent = [120, 270, -30, 60]\n",
        "\n",
        "#uniform warming x1\n",
        "ax1 = fig.add_subplot(projection=ccrs.PlateCarree(central_longitude=180))\n",
        "x1, y1 = np.meshgrid(lon_ivt_u1, lat_ivt_u1)\n",
        "cs = ax1.contourf(x1, y1, A1,\n",
        "                  transform=ccrs.PlateCarree(),\n",
        "                  cmap='BrBG')\n",
        "\n",
        "cb=fig.colorbar(cs, ax=ax1, shrink=0.8, aspect=20)\n",
        "ax1.coastlines()\n",
        "ax1.set_extent(extent)\n",
        "ax1.set_ylim([-30, 60])\n",
        "ax1.set_title('IVT U1 Anomaly CCA')"
      ],
      "metadata": {
        "colab": {
          "base_uri": "https://localhost:8080/",
          "height": 238
        },
        "id": "Y8evfHmLU6TA",
        "outputId": "1726b978-9e67-4f33-ed7b-7f8f1168b8d3"
      },
      "execution_count": null,
      "outputs": [
        {
          "output_type": "execute_result",
          "data": {
            "text/plain": [
              "Text(0.5, 1.0, 'IVT U1 Anomaly CCA')"
            ]
          },
          "metadata": {},
          "execution_count": 44
        },
        {
          "output_type": "display_data",
          "data": {
            "text/plain": [
              "<Figure size 432x288 with 2 Axes>"
            ],
            "image/png": "[encoded data removed]"
          },
          "metadata": {
            "needs_background": "light"
          }
        }
      ]
    },
    {
      "cell_type": "code",
      "source": [
        "fig = plt.figure()\n",
        "extent = [120, 270, -30, 60]\n",
        "\n",
        "#uniform warming x2\n",
        "ax1 = fig.add_subplot(projection=ccrs.PlateCarree(central_longitude=180))\n",
        "x1, y1 = np.meshgrid(lon_ivt_u3, lat_ivt_u3)\n",
        "cs = ax1.contourf(x1, y1, A2,\n",
        "                  transform=ccrs.PlateCarree(),\n",
        "                  cmap='BrBG')\n",
        "\n",
        "cb=fig.colorbar(cs, ax=ax1, shrink=0.8, aspect=20)\n",
        "ax1.coastlines()\n",
        "ax1.set_extent(extent)\n",
        "ax1.set_ylim([-30, 60])\n",
        "ax1.set_title('IVT U2 Anomaly CCA')"
      ],
      "metadata": {
        "colab": {
          "base_uri": "https://localhost:8080/",
          "height": 238
        },
        "id": "HCg8Kde_MMnz",
        "outputId": "0c77a4fc-086c-4ab9-ef41-1c61476e571a"
      },
      "execution_count": null,
      "outputs": [
        {
          "output_type": "execute_result",
          "data": {
            "text/plain": [
              "Text(0.5, 1.0, 'IVT U2 Anomaly CCA')"
            ]
          },
          "metadata": {},
          "execution_count": 55
        },
        {
          "output_type": "display_data",
          "data": {
            "text/plain": [
              "<Figure size 432x288 with 2 Axes>"
            ],
            "image/png": "[encoded data removed]"
          },
          "metadata": {
            "needs_background": "light"
          }
        }
      ]
    },
    {
      "cell_type": "code",
      "source": [
        "fig = plt.figure()\n",
        "extent = [120, 270, -30, 60]\n",
        "\n",
        "#MHW 1\n",
        "ax1 = fig.add_subplot(projection=ccrs.PlateCarree(central_longitude=180))\n",
        "x1, y1 = np.meshgrid(lon_ivt5, lat_ivt5)\n",
        "cs = ax1.contourf(x1, y1, A3,\n",
        "                  transform=ccrs.PlateCarree(),\n",
        "                  cmap='BrBG')\n",
        "\n",
        "cb=fig.colorbar(cs, ax=ax1, shrink=0.8, aspect=20)\n",
        "ax1.coastlines()\n",
        "ax1.set_extent(extent)\n",
        "ax1.set_ylim([-30, 60])\n",
        "ax1.set_title('IVT MHW1 Anomaly CCA')"
      ],
      "metadata": {
        "colab": {
          "base_uri": "https://localhost:8080/",
          "height": 508
        },
        "id": "-2ImLXAhVhrq",
        "outputId": "e4790bf3-7522-419b-bd83-c15ebc36b77a"
      },
      "execution_count": null,
      "outputs": [
        {
          "output_type": "stream",
          "name": "stderr",
          "text": [
            "/usr/local/lib/python3.8/dist-packages/cartopy/crs.py:228: ShapelyDeprecationWarning: __len__ for multi-part geometries is deprecated and will be removed in Shapely 2.0. Check the length of the `geoms` property instead to get the  number of parts of a multi-part geometry.\n",
            "  if len(multi_line_string) > 1:\n",
            "/usr/local/lib/python3.8/dist-packages/cartopy/crs.py:280: ShapelyDeprecationWarning: Iteration over multi-part geometries is deprecated and will be removed in Shapely 2.0. Use the `geoms` property to access the constituent parts of a multi-part geometry.\n",
            "  for line in multi_line_string:\n",
            "/usr/local/lib/python3.8/dist-packages/cartopy/crs.py:347: ShapelyDeprecationWarning: __len__ for multi-part geometries is deprecated and will be removed in Shapely 2.0. Check the length of the `geoms` property instead to get the  number of parts of a multi-part geometry.\n",
            "  if len(p_mline) > 0:\n"
          ]
        },
        {
          "output_type": "execute_result",
          "data": {
            "text/plain": [
              "Text(0.5, 1.0, 'IVT MHW1 Anomaly CCA')"
            ]
          },
          "metadata": {},
          "execution_count": 47
        },
        {
          "output_type": "stream",
          "name": "stderr",
          "text": [
            "/usr/local/lib/python3.8/dist-packages/cartopy/crs.py:239: ShapelyDeprecationWarning: __len__ for multi-part geometries is deprecated and will be removed in Shapely 2.0. Check the length of the `geoms` property instead to get the  number of parts of a multi-part geometry.\n",
            "  line_strings = list(multi_line_string)\n",
            "/usr/local/lib/python3.8/dist-packages/cartopy/crs.py:239: ShapelyDeprecationWarning: Iteration over multi-part geometries is deprecated and will be removed in Shapely 2.0. Use the `geoms` property to access the constituent parts of a multi-part geometry.\n",
            "  line_strings = list(multi_line_string)\n",
            "/usr/local/lib/python3.8/dist-packages/cartopy/crs.py:385: ShapelyDeprecationWarning: Iteration over multi-part geometries is deprecated and will be removed in Shapely 2.0. Use the `geoms` property to access the constituent parts of a multi-part geometry.\n",
            "  line_strings.extend(multi_line_string)\n",
            "/usr/local/lib/python3.8/dist-packages/cartopy/crs.py:385: ShapelyDeprecationWarning: __len__ for multi-part geometries is deprecated and will be removed in Shapely 2.0. Check the length of the `geoms` property instead to get the  number of parts of a multi-part geometry.\n",
            "  line_strings.extend(multi_line_string)\n"
          ]
        },
        {
          "output_type": "display_data",
          "data": {
            "text/plain": [
              "<Figure size 432x288 with 2 Axes>"
            ],
            "image/png": "[encoded data removed]"
          },
          "metadata": {
            "needs_background": "light"
          }
        }
      ]
    },
    {
      "cell_type": "code",
      "source": [
        "fig = plt.figure()\n",
        "extent = [120, 270, -30, 60]\n",
        "\n",
        "#MHW 2\n",
        "ax1 = fig.add_subplot(projection=ccrs.PlateCarree(central_longitude=180))\n",
        "x1, y1 = np.meshgrid(lon_ivt7, lat_ivt7)\n",
        "cs = ax1.contourf(x1, y1, A4,\n",
        "                  transform=ccrs.PlateCarree(),\n",
        "                  cmap='BrBG')\n",
        "\n",
        "cb=fig.colorbar(cs, ax=ax1, shrink=0.8, aspect=20)\n",
        "ax1.coastlines()\n",
        "ax1.set_extent(extent)\n",
        "ax1.set_ylim([-30, 60])\n",
        "ax1.set_title('IVT MHW2 Anomaly CCA')"
      ],
      "metadata": {
        "colab": {
          "base_uri": "https://localhost:8080/",
          "height": 238
        },
        "id": "2VFGE6IGWUeM",
        "outputId": "2fd81f85-032e-42db-fe71-23fb3fa213b5"
      },
      "execution_count": null,
      "outputs": [
        {
          "output_type": "execute_result",
          "data": {
            "text/plain": [
              "Text(0.5, 1.0, 'IVT MHW2 Anomaly CCA')"
            ]
          },
          "metadata": {},
          "execution_count": 52
        },
        {
          "output_type": "display_data",
          "data": {
            "text/plain": [
              "<Figure size 432x288 with 2 Axes>"
            ],
            "image/png": "[encoded data removed]"
          },
          "metadata": {
            "needs_background": "light"
          }
        }
      ]
    },
    {
      "cell_type": "code",
      "source": [
        "fig = plt.figure()\n",
        "extent = [120, 270, -30, 60]\n",
        "\n",
        "#MHW 3\n",
        "ax1 = fig.add_subplot(projection=ccrs.PlateCarree(central_longitude=180))\n",
        "x1, y1 = np.meshgrid(lon_ivt9, lat_ivt9)\n",
        "cs = ax1.contourf(x1, y1, A5,\n",
        "                  transform=ccrs.PlateCarree(),\n",
        "                  cmap='BrBG')\n",
        "\n",
        "cb=fig.colorbar(cs, ax=ax1, shrink=0.8, aspect=20)\n",
        "ax1.coastlines()\n",
        "ax1.set_extent(extent)\n",
        "ax1.set_ylim([-30, 60])\n",
        "ax1.set_title('IVT MHW3 Anomaly CCA')"
      ],
      "metadata": {
        "colab": {
          "base_uri": "https://localhost:8080/",
          "height": 238
        },
        "id": "aeSszxHpXApb",
        "outputId": "5eaf5ed4-d28b-408b-8fb9-401935232e7e"
      },
      "execution_count": null,
      "outputs": [
        {
          "output_type": "execute_result",
          "data": {
            "text/plain": [
              "Text(0.5, 1.0, 'IVT MHW3 Anomaly CCA')"
            ]
          },
          "metadata": {},
          "execution_count": 53
        },
        {
          "output_type": "display_data",
          "data": {
            "text/plain": [
              "<Figure size 432x288 with 2 Axes>"
            ],
            "image/png": "[encoded data removed]"
          },
          "metadata": {
            "needs_background": "light"
          }
        }
      ]
    },
    {
      "cell_type": "code",
      "source": [
        "fig = plt.figure()\n",
        "extent = [120, 270, -30, 60]\n",
        "\n",
        "#MHW 4\n",
        "ax1 = fig.add_subplot(projection=ccrs.PlateCarree(central_longitude=180))\n",
        "x1, y1 = np.meshgrid(lon_ivt11, lat_ivt11)\n",
        "cs = ax1.contourf(x1, y1, A6,\n",
        "                  transform=ccrs.PlateCarree(),\n",
        "                  cmap='BrBG')\n",
        "\n",
        "cb=fig.colorbar(cs, ax=ax1, shrink=0.8, aspect=20)\n",
        "ax1.coastlines()\n",
        "ax1.set_extent(extent)\n",
        "ax1.set_ylim([-30, 60])\n",
        "ax1.set_title('IVT MHW4 Anomaly CCA')"
      ],
      "metadata": {
        "colab": {
          "base_uri": "https://localhost:8080/",
          "height": 238
        },
        "id": "6uGBeVs9XLfH",
        "outputId": "b36252c0-8c67-4d26-8d50-d8a9953a89d1"
      },
      "execution_count": null,
      "outputs": [
        {
          "output_type": "execute_result",
          "data": {
            "text/plain": [
              "Text(0.5, 1.0, 'IVT MHW4 Anomaly CCA')"
            ]
          },
          "metadata": {},
          "execution_count": 54
        },
        {
          "output_type": "display_data",
          "data": {
            "text/plain": [
              "<Figure size 432x288 with 2 Axes>"
            ],
            "image/png": "[encoded data removed]"
          },
          "metadata": {
            "needs_background": "light"
          }
        }
      ]
    }
  ]
}